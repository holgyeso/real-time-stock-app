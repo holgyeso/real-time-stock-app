{
 "cells": [
  {
   "cell_type": "code",
   "execution_count": 1,
   "metadata": {},
   "outputs": [
    {
     "data": {
      "text/html": [
       "<div>\n",
       "<style scoped>\n",
       "    .dataframe tbody tr th:only-of-type {\n",
       "        vertical-align: middle;\n",
       "    }\n",
       "\n",
       "    .dataframe tbody tr th {\n",
       "        vertical-align: top;\n",
       "    }\n",
       "\n",
       "    .dataframe thead th {\n",
       "        text-align: right;\n",
       "    }\n",
       "</style>\n",
       "<table border=\"1\" class=\"dataframe\">\n",
       "  <thead>\n",
       "    <tr style=\"text-align: right;\">\n",
       "      <th></th>\n",
       "      <th>timestamp</th>\n",
       "      <th>symbol</th>\n",
       "      <th>price</th>\n",
       "      <th>volume</th>\n",
       "    </tr>\n",
       "  </thead>\n",
       "  <tbody>\n",
       "    <tr>\n",
       "      <th>0</th>\n",
       "      <td>1697824839641</td>\n",
       "      <td>AAPL</td>\n",
       "      <td>174.2400</td>\n",
       "      <td>30</td>\n",
       "    </tr>\n",
       "    <tr>\n",
       "      <th>1</th>\n",
       "      <td>1697824839744</td>\n",
       "      <td>AAPL</td>\n",
       "      <td>174.2350</td>\n",
       "      <td>1</td>\n",
       "    </tr>\n",
       "    <tr>\n",
       "      <th>2</th>\n",
       "      <td>1697824839745</td>\n",
       "      <td>AAPL</td>\n",
       "      <td>174.2399</td>\n",
       "      <td>18</td>\n",
       "    </tr>\n",
       "    <tr>\n",
       "      <th>3</th>\n",
       "      <td>1697824840032</td>\n",
       "      <td>AAPL</td>\n",
       "      <td>174.2472</td>\n",
       "      <td>2400</td>\n",
       "    </tr>\n",
       "    <tr>\n",
       "      <th>4</th>\n",
       "      <td>1697824840064</td>\n",
       "      <td>AAPL</td>\n",
       "      <td>174.2480</td>\n",
       "      <td>1</td>\n",
       "    </tr>\n",
       "    <tr>\n",
       "      <th>...</th>\n",
       "      <td>...</td>\n",
       "      <td>...</td>\n",
       "      <td>...</td>\n",
       "      <td>...</td>\n",
       "    </tr>\n",
       "    <tr>\n",
       "      <th>252</th>\n",
       "      <td>1697824863284</td>\n",
       "      <td>AAPL</td>\n",
       "      <td>174.3500</td>\n",
       "      <td>20</td>\n",
       "    </tr>\n",
       "    <tr>\n",
       "      <th>253</th>\n",
       "      <td>1697824863285</td>\n",
       "      <td>AAPL</td>\n",
       "      <td>174.3450</td>\n",
       "      <td>100</td>\n",
       "    </tr>\n",
       "    <tr>\n",
       "      <th>254</th>\n",
       "      <td>1697824863288</td>\n",
       "      <td>AAPL</td>\n",
       "      <td>174.3450</td>\n",
       "      <td>200</td>\n",
       "    </tr>\n",
       "    <tr>\n",
       "      <th>255</th>\n",
       "      <td>1697824863300</td>\n",
       "      <td>AAPL</td>\n",
       "      <td>174.3400</td>\n",
       "      <td>57</td>\n",
       "    </tr>\n",
       "    <tr>\n",
       "      <th>256</th>\n",
       "      <td>1697824863313</td>\n",
       "      <td>AAPL</td>\n",
       "      <td>174.3400</td>\n",
       "      <td>56</td>\n",
       "    </tr>\n",
       "  </tbody>\n",
       "</table>\n",
       "<p>257 rows × 4 columns</p>\n",
       "</div>"
      ],
      "text/plain": [
       "         timestamp symbol     price  volume\n",
       "0    1697824839641   AAPL  174.2400      30\n",
       "1    1697824839744   AAPL  174.2350       1\n",
       "2    1697824839745   AAPL  174.2399      18\n",
       "3    1697824840032   AAPL  174.2472    2400\n",
       "4    1697824840064   AAPL  174.2480       1\n",
       "..             ...    ...       ...     ...\n",
       "252  1697824863284   AAPL  174.3500      20\n",
       "253  1697824863285   AAPL  174.3450     100\n",
       "254  1697824863288   AAPL  174.3450     200\n",
       "255  1697824863300   AAPL  174.3400      57\n",
       "256  1697824863313   AAPL  174.3400      56\n",
       "\n",
       "[257 rows x 4 columns]"
      ]
     },
     "execution_count": 1,
     "metadata": {},
     "output_type": "execute_result"
    }
   ],
   "source": [
    "import pandas as pd\n",
    "import pickle # to download it into streamlit;\n",
    "from sklearn import tree\n",
    "\n",
    "\n",
    "\n",
    "# clf.predict([[1, 1]])\n",
    "\n",
    "\n",
    "df = pd.read_csv(\"finnhub_trading.csv\")\n",
    "df"
   ]
  },
  {
   "cell_type": "code",
   "execution_count": 2,
   "metadata": {},
   "outputs": [
    {
     "data": {
      "text/plain": [
       "array([174.29])"
      ]
     },
     "execution_count": 2,
     "metadata": {},
     "output_type": "execute_result"
    }
   ],
   "source": [
    "clf = tree.DecisionTreeRegressor()\n",
    "X = df.volume.map(lambda v: [v]).to_list()\n",
    "y = df.price.to_list()\n",
    "\n",
    "clf = clf.fit(X, y)\n",
    "\n",
    "# data_lag1 = \n",
    "\n",
    "clf.predict([[1200]])"
   ]
  },
  {
   "cell_type": "code",
   "execution_count": 3,
   "metadata": {},
   "outputs": [],
   "source": [
    "pickle.dump(clf, open(\"model.sav\", \"wb+\"))"
   ]
  },
  {
   "cell_type": "code",
   "execution_count": 5,
   "metadata": {},
   "outputs": [
    {
     "data": {
      "text/plain": [
       "array([174.261])"
      ]
     },
     "execution_count": 5,
     "metadata": {},
     "output_type": "execute_result"
    }
   ],
   "source": [
    "# this part should be on Streamlit\n",
    "\n",
    "clf_read = pickle.load(open(\"model.sav\", \"rb\"))\n",
    "clf_read.predict([[10]]) "
   ]
  },
  {
   "cell_type": "code",
   "execution_count": null,
   "metadata": {},
   "outputs": [],
   "source": []
  }
 ],
 "metadata": {
  "kernelspec": {
   "display_name": "Python 3",
   "language": "python",
   "name": "python3"
  },
  "language_info": {
   "codemirror_mode": {
    "name": "ipython",
    "version": 3
   },
   "file_extension": ".py",
   "mimetype": "text/x-python",
   "name": "python",
   "nbconvert_exporter": "python",
   "pygments_lexer": "ipython3",
   "version": "3.11.0"
  }
 },
 "nbformat": 4,
 "nbformat_minor": 2
}
