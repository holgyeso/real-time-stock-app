{
 "cells": [
  {
   "cell_type": "code",
   "execution_count": 1,
   "metadata": {},
   "outputs": [],
   "source": [
    "import numpy as np\n",
    "import datetime, json, time"
   ]
  },
  {
   "cell_type": "code",
   "execution_count": 2,
   "metadata": {},
   "outputs": [
    {
     "name": "stdout",
     "output_type": "stream",
     "text": [
      "{'data': [{'p': 0.1504, 's': 'TSLA', 't': 1699222338161, 'v': 313}], 'type': 'trade'}\n",
      "{'data': [{'p': 0.0174, 's': 'GOOGL', 't': 1699222342163, 'v': 95}], 'type': 'trade'}\n",
      "{'data': [{'p': 4.4523, 's': 'GOOGL', 't': 1699222346165, 'v': 328}, {'p': 2.8366, 's': 'GOOGL', 't': 1699222347165, 'v': 475}, {'p': 4.162, 's': 'GOOGL', 't': 1699222348166, 'v': 845}, {'p': 1.6141, 's': 'GOOGL', 't': 1699222349166, 'v': 277}, {'p': 0.1232, 's': 'GOOGL', 't': 1699222350166, 'v': 340}, {'p': 4.757, 's': 'GOOGL', 't': 1699222351167, 'v': 107}, {'p': 4.76, 's': 'GOOGL', 't': 1699222352167, 'v': 476}, {'p': 1.988, 's': 'GOOGL', 't': 1699222353167, 'v': 8}], 'type': 'trade'}\n",
      "{'data': [{'p': 0.6769, 's': 'GOOGL', 't': 1699222357170, 'v': 761}, {'p': 3.3731, 's': 'GOOGL', 't': 1699222358170, 'v': 154}, {'p': 4.9138, 's': 'GOOGL', 't': 1699222359171, 'v': 958}, {'p': 2.874, 's': 'GOOGL', 't': 1699222360172, 'v': 788}, {'p': 1.3687, 's': 'GOOGL', 't': 1699222361172, 'v': 431}, {'p': 1.9717, 's': 'GOOGL', 't': 1699222362173, 'v': 878}], 'type': 'trade'}\n",
      "{'data': [{'p': 1.6301, 's': 'AAPL', 't': 1699222366174, 'v': 358}, {'p': 4.7505, 's': 'AAPL', 't': 1699222367175, 'v': 726}, {'p': 4.1179, 's': 'AAPL', 't': 1699222368176, 'v': 994}, {'p': 1.1891, 's': 'AAPL', 't': 1699222369176, 'v': 754}], 'type': 'trade'}\n",
      "{'data': [{'p': 4.8378, 's': 'GOOGL', 't': 1699222373178, 'v': 671}, {'p': 1.1566, 's': 'GOOGL', 't': 1699222374178, 'v': 912}, {'p': 1.5982, 's': 'GOOGL', 't': 1699222375179, 'v': 512}, {'p': 0.0678, 's': 'GOOGL', 't': 1699222376179, 'v': 46}, {'p': 1.7119, 's': 'GOOGL', 't': 1699222377180, 'v': 677}], 'type': 'trade'}\n",
      "{'data': [{'p': 3.5889, 's': 'GOOGL', 't': 1699222381181, 'v': 222}, {'p': 0.7363, 's': 'GOOGL', 't': 1699222382181, 'v': 609}, {'p': 1.6348, 's': 'GOOGL', 't': 1699222383182, 'v': 971}, {'p': 0.8406, 's': 'GOOGL', 't': 1699222384182, 'v': 281}, {'p': 0.2079, 's': 'GOOGL', 't': 1699222385183, 'v': 242}, {'p': 3.4862, 's': 'GOOGL', 't': 1699222386183, 'v': 774}, {'p': 3.3946, 's': 'GOOGL', 't': 1699222387184, 'v': 309}], 'type': 'trade'}\n",
      "{'data': [{'p': 3.4204, 's': 'TSLA', 't': 1699222391185, 'v': 167}, {'p': 2.1159, 's': 'TSLA', 't': 1699222392186, 'v': 353}, {'p': 3.1493, 's': 'TSLA', 't': 1699222393186, 'v': 22}, {'p': 4.5284, 's': 'TSLA', 't': 1699222394187, 'v': 797}, {'p': 4.656, 's': 'TSLA', 't': 1699222395187, 'v': 839}, {'p': 0.5756, 's': 'TSLA', 't': 1699222396188, 'v': 624}, {'p': 0.964, 's': 'TSLA', 't': 1699222397188, 'v': 551}, {'p': 4.9073, 's': 'TSLA', 't': 1699222398188, 'v': 982}], 'type': 'trade'}\n",
      "{'data': [{'p': 2.7658, 's': 'AAPL', 't': 1699222402190, 'v': 27}, {'p': 4.6134, 's': 'AAPL', 't': 1699222403190, 'v': 745}, {'p': 2.2661, 's': 'AAPL', 't': 1699222404191, 'v': 654}, {'p': 4.7078, 's': 'AAPL', 't': 1699222405191, 'v': 300}, {'p': 3.2395, 's': 'AAPL', 't': 1699222406191, 'v': 142}, {'p': 0.2121, 's': 'AAPL', 't': 1699222407192, 'v': 366}, {'p': 3.3282, 's': 'AAPL', 't': 1699222408192, 'v': 777}], 'type': 'trade'}\n",
      "{'data': [{'p': 4.8057, 's': 'AAPL', 't': 1699222412194, 'v': 810}, {'p': 4.9763, 's': 'AAPL', 't': 1699222413194, 'v': 752}, {'p': 2.4004, 's': 'AAPL', 't': 1699222414194, 'v': 992}, {'p': 0.9375, 's': 'AAPL', 't': 1699222415195, 'v': 983}, {'p': 4.3712, 's': 'AAPL', 't': 1699222416195, 'v': 336}], 'type': 'trade'}\n",
      "{'data': [{'p': 2.3188, 's': 'TSLA', 't': 1699222420197, 'v': 928}], 'type': 'trade'}\n",
      "{'data': [{'p': 2.2035, 's': 'AAPL', 't': 1699222424199, 'v': 763}, {'p': 0.0134, 's': 'AAPL', 't': 1699222425200, 'v': 899}], 'type': 'trade'}\n",
      "{'data': [{'p': 0.9104, 's': 'AAPL', 't': 1699222429201, 'v': 595}, {'p': 2.6738, 's': 'AAPL', 't': 1699222430202, 'v': 999}, {'p': 1.8472, 's': 'AAPL', 't': 1699222431203, 'v': 755}, {'p': 2.0043, 's': 'AAPL', 't': 1699222432203, 'v': 518}, {'p': 2.8645, 's': 'AAPL', 't': 1699222433203, 'v': 488}], 'type': 'trade'}\n",
      "{'data': [{'p': 2.4688, 's': 'TSLA', 't': 1699222437205, 'v': 829}, {'p': 4.4267, 's': 'TSLA', 't': 1699222438206, 'v': 705}, {'p': 0.8505, 's': 'TSLA', 't': 1699222439207, 'v': 639}, {'p': 1.514, 's': 'TSLA', 't': 1699222440207, 'v': 64}, {'p': 0.9958, 's': 'TSLA', 't': 1699222441207, 'v': 975}, {'p': 3.1566, 's': 'TSLA', 't': 1699222442208, 'v': 437}, {'p': 1.5352, 's': 'TSLA', 't': 1699222443208, 'v': 445}, {'p': 4.0114, 's': 'TSLA', 't': 1699222444209, 'v': 921}, {'p': 0.7362, 's': 'TSLA', 't': 1699222445209, 'v': 582}], 'type': 'trade'}\n",
      "{'data': [{'p': 0.2054, 's': 'GOOGL', 't': 1699222449211, 'v': 913}, {'p': 3.3025, 's': 'GOOGL', 't': 1699222450211, 'v': 197}, {'p': 2.1215, 's': 'GOOGL', 't': 1699222451212, 'v': 898}], 'type': 'trade'}\n",
      "{'data': [{'p': 0.5676, 's': 'GOOGL', 't': 1699222455214, 'v': 644}, {'p': 4.6738, 's': 'GOOGL', 't': 1699222456215, 'v': 196}, {'p': 2.1415, 's': 'GOOGL', 't': 1699222457215, 'v': 429}, {'p': 3.7696, 's': 'GOOGL', 't': 1699222458216, 'v': 881}, {'p': 4.282, 's': 'GOOGL', 't': 1699222459216, 'v': 301}], 'type': 'trade'}\n",
      "{'data': [{'p': 0.6034, 's': 'GOOGL', 't': 1699222463218, 'v': 221}, {'p': 0.2104, 's': 'GOOGL', 't': 1699222464218, 'v': 103}, {'p': 4.0311, 's': 'GOOGL', 't': 1699222465218, 'v': 459}, {'p': 0.2936, 's': 'GOOGL', 't': 1699222466219, 'v': 159}, {'p': 1.947, 's': 'GOOGL', 't': 1699222467219, 'v': 546}], 'type': 'trade'}\n",
      "{'data': [{'p': 0.5016, 's': 'AAPL', 't': 1699222471221, 'v': 210}], 'type': 'trade'}\n",
      "{'data': [{'p': 3.691, 's': 'GOOGL', 't': 1699222475225, 'v': 817}, {'p': 4.019, 's': 'GOOGL', 't': 1699222476225, 'v': 112}], 'type': 'trade'}\n",
      "{'data': [{'p': 2.0359, 's': 'TSLA', 't': 1699222480228, 'v': 886}, {'p': 4.5035, 's': 'TSLA', 't': 1699222481228, 'v': 50}, {'p': 2.4824, 's': 'TSLA', 't': 1699222482229, 'v': 669}, {'p': 0.6981, 's': 'TSLA', 't': 1699222483229, 'v': 126}], 'type': 'trade'}\n",
      "{'data': [{'p': 4.4321, 's': 'GOOGL', 't': 1699222487231, 'v': 589}, {'p': 3.9374, 's': 'GOOGL', 't': 1699222488231, 'v': 63}, {'p': 2.5371, 's': 'GOOGL', 't': 1699222489232, 'v': 280}, {'p': 3.4721, 's': 'GOOGL', 't': 1699222490232, 'v': 905}, {'p': 2.5873, 's': 'GOOGL', 't': 1699222491232, 'v': 702}, {'p': 3.8911, 's': 'GOOGL', 't': 1699222492233, 'v': 584}, {'p': 0.227, 's': 'GOOGL', 't': 1699222493233, 'v': 485}, {'p': 4.3114, 's': 'GOOGL', 't': 1699222494234, 'v': 870}], 'type': 'trade'}\n",
      "{'data': [{'p': 2.1813, 's': 'GOOGL', 't': 1699222498235, 'v': 124}, {'p': 2.129, 's': 'GOOGL', 't': 1699222499236, 'v': 523}, {'p': 1.3946, 's': 'GOOGL', 't': 1699222500237, 'v': 176}, {'p': 2.3979, 's': 'GOOGL', 't': 1699222501237, 'v': 938}, {'p': 1.6524, 's': 'GOOGL', 't': 1699222502237, 'v': 902}, {'p': 1.6515, 's': 'GOOGL', 't': 1699222503238, 'v': 7}, {'p': 0.343, 's': 'GOOGL', 't': 1699222504238, 'v': 664}, {'p': 1.5575, 's': 'GOOGL', 't': 1699222505239, 'v': 631}, {'p': 1.6127, 's': 'GOOGL', 't': 1699222506239, 'v': 674}], 'type': 'trade'}\n"
     ]
    },
    {
     "ename": "KeyboardInterrupt",
     "evalue": "",
     "output_type": "error",
     "traceback": [
      "\u001b[1;31m---------------------------------------------------------------------------\u001b[0m",
      "\u001b[1;31mKeyboardInterrupt\u001b[0m                         Traceback (most recent call last)",
      "\u001b[1;32mc:\\EGYETEM\\MESTERI\\2. ev\\Big Data\\stock-app\\generate_random_json.ipynb Cell 2\u001b[0m line \u001b[0;36m2\n\u001b[0;32m     <a href='vscode-notebook-cell:/c%3A/EGYETEM/MESTERI/2.%20ev/Big%20Data/stock-app/generate_random_json.ipynb#W1sZmlsZQ%3D%3D?line=16'>17</a>\u001b[0m \u001b[39mfor\u001b[39;00m t \u001b[39min\u001b[39;00m \u001b[39mrange\u001b[39m(trade_nr):\n\u001b[0;32m     <a href='vscode-notebook-cell:/c%3A/EGYETEM/MESTERI/2.%20ev/Big%20Data/stock-app/generate_random_json.ipynb#W1sZmlsZQ%3D%3D?line=18'>19</a>\u001b[0m     json_txt[\u001b[39m\"\u001b[39m\u001b[39mdata\u001b[39m\u001b[39m\"\u001b[39m]\u001b[39m.\u001b[39mappend({\n\u001b[0;32m     <a href='vscode-notebook-cell:/c%3A/EGYETEM/MESTERI/2.%20ev/Big%20Data/stock-app/generate_random_json.ipynb#W1sZmlsZQ%3D%3D?line=19'>20</a>\u001b[0m         \u001b[39m\"\u001b[39m\u001b[39mp\u001b[39m\u001b[39m\"\u001b[39m: \u001b[39mround\u001b[39m(np\u001b[39m.\u001b[39mrandom\u001b[39m.\u001b[39mrandom() \u001b[39m*\u001b[39m \u001b[39m5\u001b[39m, ndigits\u001b[39m=\u001b[39m\u001b[39m4\u001b[39m),\n\u001b[0;32m     <a href='vscode-notebook-cell:/c%3A/EGYETEM/MESTERI/2.%20ev/Big%20Data/stock-app/generate_random_json.ipynb#W1sZmlsZQ%3D%3D?line=20'>21</a>\u001b[0m         \u001b[39m\"\u001b[39m\u001b[39ms\u001b[39m\u001b[39m\"\u001b[39m: symb,\n\u001b[0;32m     <a href='vscode-notebook-cell:/c%3A/EGYETEM/MESTERI/2.%20ev/Big%20Data/stock-app/generate_random_json.ipynb#W1sZmlsZQ%3D%3D?line=21'>22</a>\u001b[0m         \u001b[39m\"\u001b[39m\u001b[39mt\u001b[39m\u001b[39m\"\u001b[39m: \u001b[39mround\u001b[39m((datetime\u001b[39m.\u001b[39mdatetime\u001b[39m.\u001b[39mnow() \u001b[39m-\u001b[39m datetime\u001b[39m.\u001b[39mdatetime(\u001b[39m1970\u001b[39m, \u001b[39m1\u001b[39m, \u001b[39m1\u001b[39m))\u001b[39m.\u001b[39mtotal_seconds() \u001b[39m*\u001b[39m \u001b[39m1000\u001b[39m),\n\u001b[0;32m     <a href='vscode-notebook-cell:/c%3A/EGYETEM/MESTERI/2.%20ev/Big%20Data/stock-app/generate_random_json.ipynb#W1sZmlsZQ%3D%3D?line=22'>23</a>\u001b[0m         \u001b[39m\"\u001b[39m\u001b[39mv\u001b[39m\u001b[39m\"\u001b[39m: np\u001b[39m.\u001b[39mrandom\u001b[39m.\u001b[39mrandint(low\u001b[39m=\u001b[39m\u001b[39m0\u001b[39m, high\u001b[39m=\u001b[39m\u001b[39m1000\u001b[39m)\n\u001b[0;32m     <a href='vscode-notebook-cell:/c%3A/EGYETEM/MESTERI/2.%20ev/Big%20Data/stock-app/generate_random_json.ipynb#W1sZmlsZQ%3D%3D?line=23'>24</a>\u001b[0m     })\n\u001b[1;32m---> <a href='vscode-notebook-cell:/c%3A/EGYETEM/MESTERI/2.%20ev/Big%20Data/stock-app/generate_random_json.ipynb#W1sZmlsZQ%3D%3D?line=25'>26</a>\u001b[0m     time\u001b[39m.\u001b[39msleep(\u001b[39m1\u001b[39m)\n\u001b[0;32m     <a href='vscode-notebook-cell:/c%3A/EGYETEM/MESTERI/2.%20ev/Big%20Data/stock-app/generate_random_json.ipynb#W1sZmlsZQ%3D%3D?line=27'>28</a>\u001b[0m \u001b[39mprint\u001b[39m(json_txt)\n\u001b[0;32m     <a href='vscode-notebook-cell:/c%3A/EGYETEM/MESTERI/2.%20ev/Big%20Data/stock-app/generate_random_json.ipynb#W1sZmlsZQ%3D%3D?line=28'>29</a>\u001b[0m \u001b[39mwith\u001b[39;00m \u001b[39mopen\u001b[39m(\u001b[39mf\u001b[39m\u001b[39m\"\u001b[39m\u001b[39minput/input_\u001b[39m\u001b[39m{\u001b[39;00mcounter\u001b[39m}\u001b[39;00m\u001b[39m.json\u001b[39m\u001b[39m\"\u001b[39m, \u001b[39m\"\u001b[39m\u001b[39mw\u001b[39m\u001b[39m\"\u001b[39m) \u001b[39mas\u001b[39;00m f:\n",
      "\u001b[1;31mKeyboardInterrupt\u001b[0m: "
     ]
    }
   ],
   "source": [
    "symbols = [\"AAPL\", \"GOOGL\", \"TSLA\"]\n",
    "\n",
    "counter = 0\n",
    "\n",
    "while counter <= 1000: #generate max 1000 JSON files\n",
    "\n",
    "    counter += 1\n",
    "\n",
    "    json_txt = {\"data\": [], \"type\": \"trade\"}\n",
    "\n",
    "    # generate how many trades will \"data\" contain\n",
    "    trade_nr = np.random.randint(low=1, high=10)\n",
    "\n",
    "    # generate for which symbol\n",
    "    symb = symbols[np.random.randint(low=0, high=len(symbols))]\n",
    "\n",
    "    for t in range(trade_nr):\n",
    "\n",
    "        json_txt[\"data\"].append({\n",
    "            \"p\": round(np.random.random() * 5, ndigits=4),\n",
    "            \"s\": symb,\n",
    "            \"t\": round((datetime.datetime.now() - datetime.datetime(1970, 1, 1)).total_seconds() * 1000),\n",
    "            \"v\": np.random.randint(low=0, high=1000)\n",
    "        })\n",
    "\n",
    "        time.sleep(1)\n",
    "\n",
    "    print(json_txt)\n",
    "    with open(f\"input/input_{counter}.json\", \"w\") as f:\n",
    "        json.dump(json_txt, f)\n",
    "    \n",
    "    time.sleep(3)"
   ]
  }
 ],
 "metadata": {
  "kernelspec": {
   "display_name": "Python 3",
   "language": "python",
   "name": "python3"
  },
  "language_info": {
   "codemirror_mode": {
    "name": "ipython",
    "version": 3
   },
   "file_extension": ".py",
   "mimetype": "text/x-python",
   "name": "python",
   "nbconvert_exporter": "python",
   "pygments_lexer": "ipython3",
   "version": "3.11.0"
  }
 },
 "nbformat": 4,
 "nbformat_minor": 2
}
